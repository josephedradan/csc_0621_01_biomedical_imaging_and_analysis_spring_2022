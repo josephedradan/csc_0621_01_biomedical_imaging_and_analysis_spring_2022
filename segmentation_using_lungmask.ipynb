{
 "cells": [
  {
   "cell_type": "code",
   "execution_count": 1,
   "id": "943ccc2e",
   "metadata": {},
   "outputs": [],
   "source": [
    "import numpy as np\n",
    "import pandas as pd\n",
    "import pydicom\n",
    "import os\n",
    "import scipy.ndimage as ndimage\n",
    "from skimage import measure, morphology, segmentation\n",
    "import matplotlib.pyplot as plt\n",
    "import os\n",
    "from pathlib import Path\n",
    "import cv2\n",
    "\n",
    "import time"
   ]
  },
  {
   "cell_type": "code",
   "execution_count": 3,
   "id": "258e9599",
   "metadata": {},
   "outputs": [],
   "source": [
    "from lungmask import mask\n",
    "import SimpleITK as sitk\n",
    "from myshow import myshow, myshow3d"
   ]
  },
  {
   "cell_type": "code",
   "execution_count": 4,
   "id": "17d9c593",
   "metadata": {},
   "outputs": [
    {
     "name": "stdout",
     "output_type": "stream",
     "text": [
      "INFO:root:No GPU support available, will use CPU. Note, that this is significantly slower!\n"
     ]
    },
    {
     "name": "stderr",
     "output_type": "stream",
     "text": [
      "100%|████████████████████████████████████████████████████████████████████████████████| 226/226 [01:26<00:00,  2.62it/s]\n",
      "100%|████████████████████████████████████████████████████████████████████████████████████| 8/8 [00:00<00:00, 51.09it/s]\n"
     ]
    }
   ],
   "source": [
    "input_image = sitk.ReadImage(\"C:/Users/edwin/OneDrive/Documents/CSC-821/GroupProject/SimpleITK-Notebooks/Python/patient_nifti_data/patient_test_1.nii\")\n",
    "\n",
    "segmentation = mask.apply(input_image)\n",
    "\n",
    "origin = input_image.GetOrigin()\n",
    "spacing = input_image.GetSpacing()\n",
    "direction = input_image.GetDirection()"
   ]
  },
  {
   "cell_type": "code",
   "execution_count": 5,
   "id": "e2949719",
   "metadata": {},
   "outputs": [],
   "source": [
    "output_image = sitk.GetImageFromArray(segmentation)"
   ]
  },
  {
   "cell_type": "code",
   "execution_count": 6,
   "id": "88376c83",
   "metadata": {},
   "outputs": [],
   "source": [
    "output_image = sitk.Cast(sitk.RescaleIntensity(output_image), sitk.sitkInt16)\n",
    "output_image.SetOrigin(origin)\n",
    "output_image.SetSpacing(spacing)\n",
    "output_image.SetDirection(direction)\n",
    "\n",
    "\n",
    "# sitk.WriteImage(sitk.Cast(output_image, sitk.sitkInt16), \"patient_test_1_output.nii\")\n",
    "sitk.WriteImage(output_image, \"patient_test_1_output.nii\")"
   ]
  },
  {
   "cell_type": "code",
   "execution_count": 8,
   "id": "ab722e7f",
   "metadata": {},
   "outputs": [],
   "source": [
    "input_image_array = sitk.GetArrayFromImage(input_image)\n",
    "image_array_from_mask = np.where(segmentation == 1, input_image_array, 0)\n",
    "image_array_from_mask = image_array_from_mask + np.where(segmentation == 2, input_image_array, 0)\n",
    "\n",
    "image_from_mask = sitk.GetImageFromArray(image_array_from_mask)\n",
    "\n",
    "output_image_from_mask = sitk.Cast(sitk.RescaleIntensity(image_from_mask), sitk.sitkInt16)\n",
    "output_image_from_mask.SetOrigin(origin)\n",
    "output_image_from_mask.SetSpacing(spacing)\n",
    "output_image_from_mask.SetDirection(direction)"
   ]
  },
  {
   "cell_type": "code",
   "execution_count": 9,
   "id": "2cdb8d82",
   "metadata": {},
   "outputs": [
    {
     "data": {
      "application/vnd.jupyter.widget-view+json": {
       "model_id": "286204e0351b47a58b690917d99df876",
       "version_major": 2,
       "version_minor": 0
      },
      "text/plain": [
       "interactive(children=(IntSlider(value=112, description='z', max=225), Output()), _dom_classes=('widget-interac…"
      ]
     },
     "metadata": {},
     "output_type": "display_data"
    }
   ],
   "source": [
    "myshow(sitk.LabelOverlay(input_image, output_image), \"Mask overlayed on image\")"
   ]
  },
  {
   "cell_type": "code",
   "execution_count": 11,
   "id": "4758e159",
   "metadata": {},
   "outputs": [
    {
     "data": {
      "application/vnd.jupyter.widget-view+json": {
       "model_id": "8ae51972fff4424eabfde5a691efd59c",
       "version_major": 2,
       "version_minor": 0
      },
      "text/plain": [
       "interactive(children=(IntSlider(value=112, description='z', max=225), Output()), _dom_classes=('widget-interac…"
      ]
     },
     "metadata": {},
     "output_type": "display_data"
    }
   ],
   "source": [
    "myshow(output_image_from_mask, \"Segmented Lungs\")\n",
    "sitk.WriteImage(output_image_from_mask, \"patient_test_1_output_image_from_mask.nii\")"
   ]
  }
 ],
 "metadata": {
  "kernelspec": {
   "display_name": "Python 3.8.12 64-bit Anaconda Base (Tensorflow 2.6.0 | CUDE: 11.2 | GPU Support: True)",
   "language": "python",
   "name": "python3"
  },
  "language_info": {
   "codemirror_mode": {
    "name": "ipython",
    "version": 3
   },
   "file_extension": ".py",
   "mimetype": "text/x-python",
   "name": "python",
   "nbconvert_exporter": "python",
   "pygments_lexer": "ipython3",
   "version": "3.8.12"
  }
 },
 "nbformat": 4,
 "nbformat_minor": 5
}