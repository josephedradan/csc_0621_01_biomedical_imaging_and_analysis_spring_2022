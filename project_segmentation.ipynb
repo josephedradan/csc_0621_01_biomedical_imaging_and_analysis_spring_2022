{
 "cells": [
  {
   "cell_type": "code",
   "execution_count": 1,
   "id": "f33eb315",
   "metadata": {},
   "outputs": [],
   "source": [
    "# Segmentation steps: (a) Original, (b) thresholding, (c) background\n",
    "# removal, (d) airway and noise removal, (e) rolling–ball operator, (f) left, right\n",
    "# lung separated."
   ]
  },
  {
   "cell_type": "code",
   "execution_count": 2,
   "id": "3c88b096",
   "metadata": {},
   "outputs": [],
   "source": [
    "%matplotlib inline\n",
    "import matplotlib.pyplot as plt\n",
    "from ipywidgets import interact, FloatSlider\n",
    "\n",
    "import SimpleITK as sitk\n",
    "\n",
    "# Download data to work on\n",
    "# %run update_path_to_download_script\n",
    "# from downloaddata import fetch_data as fdata\n",
    "from myshow import myshow, myshow3d"
   ]
  },
  {
   "cell_type": "code",
   "execution_count": 3,
   "id": "525719e5",
   "metadata": {},
   "outputs": [],
   "source": [
    "# import dicom2nifti\n",
    "# import os\n",
    "\n",
    "# output_path = \"C:/Users/edwin/OneDrive/Documents/CSC-821/GroupProject/SimpleITK-Notebooks/Python/patient_nifti_data\"\n",
    "# one_patient_path = \"C:/Users/edwin/OneDrive/Documents/CSC-821/ImageJAndData/CovidData/manifest-1608266677008/MIDRC-RICORD-1A/MIDRC-RICORD-1A-419639-000831/01-14-2003-NA-CT CHEST PULMONARY EMBOLISM CTPE-44168/2.000000-PE Smart Prep Left Atrium-34513\"\n",
    "# dicom2nifti.convert_dicom.dicom_series_to_nifti(one_patient_path, os.path.join(output_path, 'patient_test_1.nii'))\n"
   ]
  },
  {
   "cell_type": "code",
   "execution_count": 4,
   "id": "ee99c01a",
   "metadata": {},
   "outputs": [
    {
     "data": {
      "application/vnd.jupyter.widget-view+json": {
       "model_id": "d155f3cec2664800b9e8c284a244e41e",
       "version_major": 2,
       "version_minor": 0
      },
      "text/plain": [
       "interactive(children=(IntSlider(value=112, description='z', max=225), Output()), _dom_classes=('widget-interac…"
      ]
     },
     "metadata": {},
     "output_type": "display_data"
    }
   ],
   "source": [
    "# img_T1 = sitk.ReadImage(\"C:/Users/edwin/OneDrive/Documents/CSC-821/ImageJAndData/CovidData/manifest-1608266677008/MIDRC-RICORD-1A/MIDRC-RICORD-1A-419639-000831/01-14-2003-NA-CT CHEST PULMONARY EMBOLISM CTPE-44168/2.000000-PE Smart Prep Left Atrium-34513/1-003.dcm\")\n",
    "# img_T1 = sitk.ReadImage(\"C:/Users/edwin/OneDrive/Documents/CSC-821/ImageJAndData/CovidData/manifest-1608266677008/MIDRC-RICORD-1A/MIDRC-RICORD-1A-419639-000831/01-14-2003-NA-CT CHEST PULMONARY EMBOLISM CTPE-44168/1.000000-PE SCOUT-66698/1-1.dcm\")\n",
    "\n",
    "img_T1 = sitk.ReadImage(\"C:/Users/edwin/OneDrive/Documents/CSC-821/GroupProject/SimpleITK-Notebooks/Python/patient_nifti_data/patient_test_1.nii\")\n",
    "\n",
    "img_T1_255 = sitk.Cast(sitk.RescaleIntensity(img_T1), sitk.sitkUInt8)\n",
    "\n",
    "myshow3d(img_T1)\n"
   ]
  },
  {
   "cell_type": "code",
   "execution_count": 5,
   "id": "9b706a8d",
   "metadata": {},
   "outputs": [],
   "source": [
    "# Edge preserving smoothing\n",
    "# smooth = sitk.BilateralImageFilter()\n",
    "# img_T1 = smooth.Execute(img_T1)\n",
    "# myshow3d(img_T1)"
   ]
  },
  {
   "cell_type": "code",
   "execution_count": 6,
   "id": "fadaff89",
   "metadata": {},
   "outputs": [
    {
     "name": "stdout",
     "output_type": "stream",
     "text": [
      "env: SITK_SHOW_COMMAND=\"C:\\Users\\edwin\\OneDrive\\Documents\\CSC-821\\Fiji\\fiji-win64\\Fiji.app\\ImageJ-win64.exe\"\n"
     ]
    }
   ],
   "source": [
    "# Open on expternal viewer\n",
    "# setx SITK_SHOW_COMMAND \"C:\\Users\\edwin\\OneDrive\\Documents\\CSC-821\\Fiji\\fiji-win64\\Fiji.app\\ImageJ-win64.exe\"\n",
    "%env SITK_SHOW_COMMAND \"C:\\Users\\edwin\\OneDrive\\Documents\\CSC-821\\Fiji\\fiji-win64\\Fiji.app\\ImageJ-win64.exe\"\n",
    "# %env SITK_SHOW_COMMAND \"C:/Users/edwin/OneDrive/Documents/CSC-821/Fiji/fiji-win64/Fiji.app/ImageJ-win64.exe\"\n",
    "\n",
    "\n",
    "# sitk.Show(img_T1)"
   ]
  },
  {
   "cell_type": "code",
   "execution_count": 7,
   "id": "7705cd2f",
   "metadata": {},
   "outputs": [
    {
     "data": {
      "application/vnd.jupyter.widget-view+json": {
       "model_id": "50ca157f9210469ea4162b1d4d78e837",
       "version_major": 2,
       "version_minor": 0
      },
      "text/plain": [
       "interactive(children=(IntSlider(value=112, description='z', max=225), Output()), _dom_classes=('widget-interac…"
      ]
     },
     "metadata": {},
     "output_type": "display_data"
    },
    {
     "data": {
      "application/vnd.jupyter.widget-view+json": {
       "model_id": "5adf87ee01db439e814917af687a400d",
       "version_major": 2,
       "version_minor": 0
      },
      "text/plain": [
       "interactive(children=(IntSlider(value=112, description='z', max=225), Output()), _dom_classes=('widget-interac…"
      ]
     },
     "metadata": {},
     "output_type": "display_data"
    }
   ],
   "source": [
    "# seg = sitk.BinaryThreshold(\n",
    "#     img_T1, lowerThreshold=100, upperThreshold=400, insideValue=1, outsideValue=0\n",
    "# )\n",
    "seg = sitk.BinaryThreshold(\n",
    "    img_T1, lowerThreshold=-850, upperThreshold=-200, insideValue=1, outsideValue=0\n",
    ")\n",
    "\n",
    "myshow(sitk.LabelOverlay(img_T1_255, seg), \"Binary Thresholding overlayed on Image\")\n",
    "myshow(seg, \"Binary Thresholding\")"
   ]
  },
  {
   "cell_type": "code",
   "execution_count": 8,
   "id": "98b07bc6",
   "metadata": {},
   "outputs": [
    {
     "data": {
      "application/vnd.jupyter.widget-view+json": {
       "model_id": "8ebee32e8e654cf4b2450dcd9fe5c1b5",
       "version_major": 2,
       "version_minor": 0
      },
      "text/plain": [
       "interactive(children=(IntSlider(value=112, description='z', max=225), Output()), _dom_classes=('widget-interac…"
      ]
     },
     "metadata": {},
     "output_type": "display_data"
    },
    {
     "name": "stdout",
     "output_type": "stream",
     "text": [
      "-2976.0\n"
     ]
    }
   ],
   "source": [
    "otsu_filter = sitk.OtsuThresholdImageFilter()\n",
    "otsu_filter.SetInsideValue(0)\n",
    "otsu_filter.SetOutsideValue(1)\n",
    "seg = otsu_filter.Execute(img_T1)\n",
    "myshow(sitk.LabelOverlay(img_T1_255, seg), \"Otsu Thresholding\")\n",
    "\n",
    "print(otsu_filter.GetThreshold())"
   ]
  },
  {
   "cell_type": "code",
   "execution_count": 9,
   "id": "d42a1a41",
   "metadata": {},
   "outputs": [
    {
     "data": {
      "application/vnd.jupyter.widget-view+json": {
       "model_id": "b9e1625f8ff4405cab8addd1d3521d84",
       "version_major": 2,
       "version_minor": 0
      },
      "text/plain": [
       "interactive(children=(IntSlider(value=112, description='z', max=225), Output()), _dom_classes=('widget-interac…"
      ]
     },
     "metadata": {},
     "output_type": "display_data"
    },
    {
     "data": {
      "application/vnd.jupyter.widget-view+json": {
       "model_id": "0c049c2992924e0ea030fbf6cbb99d1d",
       "version_major": 2,
       "version_minor": 0
      },
      "text/plain": [
       "interactive(children=(IntSlider(value=112, description='z', max=225), Output()), _dom_classes=('widget-interac…"
      ]
     },
     "metadata": {},
     "output_type": "display_data"
    },
    {
     "name": "stdout",
     "output_type": "stream",
     "text": [
      "(-2976.379093170166, -452.470947265625)\n"
     ]
    }
   ],
   "source": [
    "otsu_filter = sitk.OtsuMultipleThresholdsImageFilter()\n",
    "otsu_filter.SetNumberOfThresholds(2)\n",
    "seg = otsu_filter.Execute(img_T1)\n",
    "myshow(sitk.LabelOverlay(img_T1_255, seg), \"Otsu Multi Thresholding overlayed on Image\")\n",
    "myshow(seg, \"Otsu Multi Thresholding\")\n",
    "# sitk.Show(sitk.LabelOverlay(img_T1_255, seg))\n",
    "print(otsu_filter.GetThresholds())"
   ]
  },
  {
   "cell_type": "code",
   "execution_count": 10,
   "id": "2d88fd64",
   "metadata": {},
   "outputs": [
    {
     "data": {
      "application/vnd.jupyter.widget-view+json": {
       "model_id": "13326f412227449999d1bbd426671d52",
       "version_major": 2,
       "version_minor": 0
      },
      "text/plain": [
       "interactive(children=(IntSlider(value=112, description='z', max=225), Output()), _dom_classes=('widget-interac…"
      ]
     },
     "metadata": {},
     "output_type": "display_data"
    }
   ],
   "source": [
    "cleaned_thresh_img = sitk.BinaryOpeningByReconstruction(seg, [10, 10, 10])\n",
    "cleaned_thresh_img = sitk.BinaryClosingByReconstruction(\n",
    "    cleaned_thresh_img, [10, 10, 10]\n",
    ")\n",
    "\n",
    "myshow(sitk.LabelOverlay(img_T1_255, cleaned_thresh_img), \"Otsu Multi Thresholding + Bianry Reconstruction Overlayed On Image\")\n"
   ]
  },
  {
   "cell_type": "code",
   "execution_count": 12,
   "id": "fa97c858",
   "metadata": {},
   "outputs": [],
   "source": [
    "seed_pts = [(125,237,200), (369,237,200)]\n",
    "temp_img = sitk.ConfidenceConnected(img_T1, seedList=seed_pts,\n",
    "                                                           numberOfIterations=0,\n",
    "                                                           multiplier=2,\n",
    "                                                           initialNeighborhoodRadius=1,\n",
    "                                                           replaceValue=1)"
   ]
  },
  {
   "cell_type": "code",
   "execution_count": 13,
   "id": "7b0d492e",
   "metadata": {},
   "outputs": [],
   "source": [
    "# gui.MultiImageDisplay(image_list=[sitk.LabelOverlay(self.img_uint8, self.temp_img)],\n",
    "#                               title_list=[title])"
   ]
  },
  {
   "cell_type": "code",
   "execution_count": 15,
   "id": "40dfa57d",
   "metadata": {},
   "outputs": [
    {
     "data": {
      "application/vnd.jupyter.widget-view+json": {
       "model_id": "1fe1c1e3ec0f457aa1fb1a28c8527a41",
       "version_major": 2,
       "version_minor": 0
      },
      "text/plain": [
       "interactive(children=(IntSlider(value=112, description='z', max=225), Output()), _dom_classes=('widget-interac…"
      ]
     },
     "metadata": {},
     "output_type": "display_data"
    }
   ],
   "source": [
    "# Watershed segmentation\n",
    "closing = sitk.BinaryMorphologicalClosingImageFilter()\n",
    "closing.SetForegroundValue(1)\n",
    "closing.SetKernelRadius(7)\n",
    "temp_img2 = closing.Execute(temp_img)\n",
    "\n",
    "myshow(sitk.LabelOverlay(img_T1_255, temp_img2), \"Watershed Segmentation Overlayed On Image\")\n",
    "\n"
   ]
  },
  {
   "cell_type": "code",
   "execution_count": null,
   "id": "aff3c44c",
   "metadata": {},
   "outputs": [],
   "source": [
    "\n",
    "\n",
    "# %matplotlib notebook\n",
    "# import gui\n",
    "# import matplotlib.pyplot as plt\n",
    "\n",
    "# import numpy as np\n",
    "# from scipy import linalg\n",
    "\n",
    "# from ipywidgets import interact, fixed"
   ]
  },
  {
   "cell_type": "code",
   "execution_count": null,
   "id": "66fd0597",
   "metadata": {},
   "outputs": [],
   "source": [
    "# spherical_fiducials_image = sitk.ReadImage(\"C:/Users/edwin/OneDrive/Documents/CSC-821/GroupProject/SimpleITK-Notebooks/Python/patient_nifti_data/patient_test_1.nii\")\n",
    "\n",
    "# roi_list = [((280, 320), (65, 90), (8, 30)), ((200, 240), (65, 100), (15, 40))]\n"
   ]
  },
  {
   "cell_type": "code",
   "execution_count": null,
   "id": "629825e4",
   "metadata": {
    "scrolled": true
   },
   "outputs": [],
   "source": [
    "# roi_acquisition_interface = gui.ROIDataAquisition(spherical_fiducials_image)\n",
    "# roi_acquisition_interface.set_rois(roi_list)"
   ]
  },
  {
   "cell_type": "code",
   "execution_count": null,
   "id": "518068f7",
   "metadata": {},
   "outputs": [],
   "source": [
    "# specified_rois = roi_acquisition_interface.get_rois()\n",
    "# # select the one ROI we will work on\n",
    "# ROI_INDEX = 0\n",
    "\n",
    "# roi = specified_rois[ROI_INDEX]\n",
    "# mask_value = 255\n",
    "\n",
    "# mask = sitk.Image(spherical_fiducials_image.GetSize(), sitk.sitkUInt8)\n",
    "# mask.CopyInformation(spherical_fiducials_image)\n",
    "# mask[\n",
    "#     roi[0][0] : roi[0][1] + 1, roi[1][0] : roi[1][1] + 1, roi[2][0] : roi[2][1] + 1\n",
    "# ] = mask_value"
   ]
  },
  {
   "cell_type": "code",
   "execution_count": null,
   "id": "c0b8331a",
   "metadata": {},
   "outputs": [],
   "source": [
    "# intensity_values = sitk.GetArrayViewFromImage(spherical_fiducials_image)\n",
    "# roi_intensity_values = intensity_values[\n",
    "#     roi[2][0] : roi[2][1], roi[1][0] : roi[1][1], roi[0][0] : roi[0][1]\n",
    "# ].flatten()\n",
    "# plt.figure()\n",
    "# plt.hist(roi_intensity_values, bins=100)\n",
    "# plt.title(\"Intensity Values in ROI\")\n",
    "# plt.show()"
   ]
  },
  {
   "cell_type": "code",
   "execution_count": null,
   "id": "fe49ebda",
   "metadata": {},
   "outputs": [],
   "source": [
    "# # Set pixels that are in [min_intensity,otsu_threshold] to inside_value, values above otsu_threshold are\n",
    "# # set to outside_value. The sphere's have higher intensity values than the background, so they are outside.\n",
    "\n",
    "# inside_value = 0\n",
    "# outside_value = 255\n",
    "# number_of_histogram_bins = 100\n",
    "# mask_output = True\n",
    "\n",
    "# labeled_result = sitk.OtsuThreshold(\n",
    "#     spherical_fiducials_image,\n",
    "#     mask,\n",
    "#     inside_value,\n",
    "#     outside_value,\n",
    "#     number_of_histogram_bins,\n",
    "#     mask_output,\n",
    "#     mask_value,\n",
    "# )\n",
    "\n",
    "# # Estimate the sphere radius from the segmented image using the LabelShapeStatisticsImageFilter.\n",
    "# label_shape_analysis = sitk.LabelShapeStatisticsImageFilter()\n",
    "# label_shape_analysis.SetBackgroundValue(inside_value)\n",
    "# label_shape_analysis.Execute(labeled_result)\n",
    "# print(\n",
    "#     \"The sphere's location is: {0:.2f}, {1:.2f}, {2:.2f}\".format(\n",
    "#         *(label_shape_analysis.GetCentroid(outside_value))\n",
    "#     )\n",
    "# )\n",
    "# print(\n",
    "#     f\"The sphere's radius is: {label_shape_analysis.GetEquivalentSphericalRadius(outside_value):.2f}mm\"\n",
    "# )"
   ]
  },
  {
   "cell_type": "code",
   "execution_count": null,
   "id": "22a12624",
   "metadata": {},
   "outputs": [],
   "source": [
    "# # Visually evaluate the results of segmentation, just to make sure. Use the zoom tool, second from the right, to\n",
    "# # inspect the segmentation.\n",
    "# gui.MultiImageDisplay(\n",
    "#     image_list=[\n",
    "#         sitk.LabelOverlay(\n",
    "#             sitk.Cast(\n",
    "#                 sitk.IntensityWindowing(\n",
    "#                     spherical_fiducials_image,\n",
    "#                     windowMinimum=-32767,\n",
    "#                     windowMaximum=-29611,\n",
    "#                 ),\n",
    "#                 sitk.sitkUInt8,\n",
    "#             ),\n",
    "#             labeled_result,\n",
    "#             opacity=0.5,\n",
    "#         )\n",
    "#     ],\n",
    "#     title_list=[\"thresholding result\"],\n",
    "# );"
   ]
  },
  {
   "cell_type": "code",
   "execution_count": null,
   "id": "bb8fcba5",
   "metadata": {},
   "outputs": [],
   "source": []
  }
 ],
 "metadata": {
  "kernelspec": {
   "display_name": "Python 3.8.12 64-bit Anaconda Base (Tensorflow 2.6.0 | CUDE: 11.2 | GPU Support: True)",
   "language": "python",
   "name": "python3"
  },
  "language_info": {
   "codemirror_mode": {
    "name": "ipython",
    "version": 3
   },
   "file_extension": ".py",
   "mimetype": "text/x-python",
   "name": "python",
   "nbconvert_exporter": "python",
   "pygments_lexer": "ipython3",
   "version": "3.8.12"
  }
 },
 "nbformat": 4,
 "nbformat_minor": 5
}